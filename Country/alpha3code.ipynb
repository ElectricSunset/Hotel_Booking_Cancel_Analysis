{
 "cells": [
  {
   "cell_type": "code",
   "execution_count": 20,
   "metadata": {},
   "outputs": [],
   "source": [
    "import pandas as pd"
   ]
  },
  {
   "cell_type": "markdown",
   "metadata": {},
   "source": [
    "Notebook ini bertujuan untuk mengolah data kode negara berdasarkan ISO 3166-1 sebagai pengganti ISO 3155-3:2013 yang sudah tidak dapat diakses. Data yang diambil berdasarkan link yang tertera dibawah, dipindahkan kedalam excel dan di proses pada jupyter notebook ini.  \n",
    "Source : https://en.wikipedia.org/wiki/List_of_sovereign_states_and_dependent_territories_by_continent_(data_file)"
   ]
  },
  {
   "cell_type": "code",
   "execution_count": 21,
   "metadata": {},
   "outputs": [
    {
     "data": {
      "text/html": [
       "<div>\n",
       "<style scoped>\n",
       "    .dataframe tbody tr th:only-of-type {\n",
       "        vertical-align: middle;\n",
       "    }\n",
       "\n",
       "    .dataframe tbody tr th {\n",
       "        vertical-align: top;\n",
       "    }\n",
       "\n",
       "    .dataframe thead th {\n",
       "        text-align: right;\n",
       "    }\n",
       "</style>\n",
       "<table border=\"1\" class=\"dataframe\">\n",
       "  <thead>\n",
       "    <tr style=\"text-align: right;\">\n",
       "      <th></th>\n",
       "      <th>Continent</th>\n",
       "      <th>a-3</th>\n",
       "      <th>Name</th>\n",
       "    </tr>\n",
       "  </thead>\n",
       "  <tbody>\n",
       "    <tr>\n",
       "      <th>0</th>\n",
       "      <td>AS</td>\n",
       "      <td>AFG</td>\n",
       "      <td>Afghanistan, Islamic Republic of</td>\n",
       "    </tr>\n",
       "    <tr>\n",
       "      <th>1</th>\n",
       "      <td>EU</td>\n",
       "      <td>ALB</td>\n",
       "      <td>Albania, Republic of</td>\n",
       "    </tr>\n",
       "    <tr>\n",
       "      <th>2</th>\n",
       "      <td>AN</td>\n",
       "      <td>ATA</td>\n",
       "      <td>Antarctica (the territory South of 60 deg S)</td>\n",
       "    </tr>\n",
       "    <tr>\n",
       "      <th>3</th>\n",
       "      <td>AF</td>\n",
       "      <td>DZA</td>\n",
       "      <td>Algeria, People's Democratic Republic of</td>\n",
       "    </tr>\n",
       "    <tr>\n",
       "      <th>4</th>\n",
       "      <td>OC</td>\n",
       "      <td>ASM</td>\n",
       "      <td>American Samoa</td>\n",
       "    </tr>\n",
       "  </tbody>\n",
       "</table>\n",
       "</div>"
      ],
      "text/plain": [
       "  Continent  a-3                                          Name\n",
       "0        AS  AFG              Afghanistan, Islamic Republic of\n",
       "1        EU  ALB                          Albania, Republic of\n",
       "2        AN  ATA  Antarctica (the territory South of 60 deg S)\n",
       "3        AF  DZA      Algeria, People's Democratic Republic of\n",
       "4        OC  ASM                                American Samoa"
      ]
     },
     "execution_count": 21,
     "metadata": {},
     "output_type": "execute_result"
    }
   ],
   "source": [
    "data = pd.read_excel('Country(alpha3code).xlsx')\n",
    "data = data.drop(columns=['a-2','#'])\n",
    "data.head()"
   ]
  },
  {
   "cell_type": "markdown",
   "metadata": {},
   "source": [
    "Dari data yang ada, hanya diambil kolom yang dibutuhkan yaitu `Continent`, `a-3`, `Name`  \n",
    "`a-2` merupakan kode negara dalam 2 huruf dan `#` merupakan kode negara dalam 3 digit"
   ]
  },
  {
   "cell_type": "code",
   "execution_count": 22,
   "metadata": {},
   "outputs": [
    {
     "data": {
      "text/plain": [
       "Continent    42\n",
       "a-3           3\n",
       "Name          0\n",
       "dtype: int64"
      ]
     },
     "execution_count": 22,
     "metadata": {},
     "output_type": "execute_result"
    }
   ],
   "source": [
    "# Cek Missing Value\n",
    "data.isna().sum()"
   ]
  },
  {
   "cell_type": "markdown",
   "metadata": {},
   "source": [
    "Terdapat Missing Value pada `Continent` dan nama negara. Setelah ditelusuri kode benua `NA` terpaca sebagai NaN"
   ]
  },
  {
   "cell_type": "code",
   "execution_count": 23,
   "metadata": {},
   "outputs": [],
   "source": [
    "# Fill missing value menggunakan 'NA' (North America)\n",
    "data['Continent'].fillna('NA', inplace=True)"
   ]
  },
  {
   "cell_type": "code",
   "execution_count": 24,
   "metadata": {},
   "outputs": [
    {
     "data": {
      "text/plain": [
       "[259, 260, 261]"
      ]
     },
     "execution_count": 24,
     "metadata": {},
     "output_type": "execute_result"
    }
   ],
   "source": [
    "# Finding a-3 missing value index\n",
    "data[data['a-3'].isnull()].index.tolist()"
   ]
  },
  {
   "cell_type": "code",
   "execution_count": 25,
   "metadata": {},
   "outputs": [
    {
     "data": {
      "text/html": [
       "<div>\n",
       "<style scoped>\n",
       "    .dataframe tbody tr th:only-of-type {\n",
       "        vertical-align: middle;\n",
       "    }\n",
       "\n",
       "    .dataframe tbody tr th {\n",
       "        vertical-align: top;\n",
       "    }\n",
       "\n",
       "    .dataframe thead th {\n",
       "        text-align: right;\n",
       "    }\n",
       "</style>\n",
       "<table border=\"1\" class=\"dataframe\">\n",
       "  <thead>\n",
       "    <tr style=\"text-align: right;\">\n",
       "      <th></th>\n",
       "      <th>Continent</th>\n",
       "      <th>a-3</th>\n",
       "      <th>Name</th>\n",
       "    </tr>\n",
       "  </thead>\n",
       "  <tbody>\n",
       "    <tr>\n",
       "      <th>259</th>\n",
       "      <td>AS</td>\n",
       "      <td>NaN</td>\n",
       "      <td>United Nations Neutral Zone</td>\n",
       "    </tr>\n",
       "    <tr>\n",
       "      <th>260</th>\n",
       "      <td>AS</td>\n",
       "      <td>NaN</td>\n",
       "      <td>Spratly Islands</td>\n",
       "    </tr>\n",
       "    <tr>\n",
       "      <th>261</th>\n",
       "      <td>OC</td>\n",
       "      <td>NaN</td>\n",
       "      <td>Disputed Territory</td>\n",
       "    </tr>\n",
       "  </tbody>\n",
       "</table>\n",
       "</div>"
      ],
      "text/plain": [
       "    Continent  a-3                         Name\n",
       "259        AS  NaN  United Nations Neutral Zone\n",
       "260        AS  NaN              Spratly Islands\n",
       "261        OC  NaN           Disputed Territory"
      ]
     },
     "execution_count": 25,
     "metadata": {},
     "output_type": "execute_result"
    }
   ],
   "source": [
    "# Missing Value DataFrame\n",
    "data.iloc[[259, 260, 261],:]"
   ]
  },
  {
   "cell_type": "markdown",
   "metadata": {},
   "source": [
    "Ketiga value diatas merupakan zona neutral atau sedang dispute, tidak dipakai maka akan di drop"
   ]
  },
  {
   "cell_type": "code",
   "execution_count": 26,
   "metadata": {},
   "outputs": [],
   "source": [
    "# Droping Missing Value for Dispute / Neutral Territory\n",
    "data.drop(index=[259,260,261], inplace=True)"
   ]
  },
  {
   "cell_type": "markdown",
   "metadata": {},
   "source": [
    "Terdapat perbedaan kode negara antara ISO 3155-3:2013 dengan ISO 3166-1, yaitu :  \n",
    "- East Timor dari TMP menjadi TLS  \n",
    "- Canada dari CN menjadi CAN  \n",
    "\n",
    "Maka DataFrame akan disesuaikan menjadi TMP dan CN"
   ]
  },
  {
   "cell_type": "code",
   "execution_count": 27,
   "metadata": {},
   "outputs": [],
   "source": [
    "data.loc[data['a-3']=='TLS','a-3'] = 'TMP'\n",
    "data.loc[data['a-3']=='CAN','a-3'] = 'CN'"
   ]
  },
  {
   "cell_type": "code",
   "execution_count": 28,
   "metadata": {},
   "outputs": [],
   "source": [
    "# Droping Kolom 'Name' karena tidak digunakan untuk analisa\n",
    "data.drop(columns='Name', inplace=True)\n",
    "\n",
    "# Exporting csv\n",
    "data.to_csv('alpha3code.csv', index=False)"
   ]
  }
 ],
 "metadata": {
  "kernelspec": {
   "display_name": "Python 3.9.13 64-bit",
   "language": "python",
   "name": "python3"
  },
  "language_info": {
   "codemirror_mode": {
    "name": "ipython",
    "version": 3
   },
   "file_extension": ".py",
   "mimetype": "text/x-python",
   "name": "python",
   "nbconvert_exporter": "python",
   "pygments_lexer": "ipython3",
   "version": "3.9.13"
  },
  "orig_nbformat": 4,
  "vscode": {
   "interpreter": {
    "hash": "cb59c6eb8e2806a58797419bd69f1c49ec6c673eb3f93a3b4fd1bf8bfcf173c1"
   }
  }
 },
 "nbformat": 4,
 "nbformat_minor": 2
}
